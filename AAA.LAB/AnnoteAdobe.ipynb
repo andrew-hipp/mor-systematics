{
 "cells": [
  {
   "cell_type": "markdown",
   "metadata": {},
   "source": [
    "# Changing Adobe Digital Editions annotations to text\n",
    "This notebook takes annotation file from Adobe Digital Editions and turn into a text doc with page numbers\n",
    "\n",
    "First, get the needed library and set up a few variables."
   ]
  },
  {
   "cell_type": "code",
   "execution_count": 1,
   "metadata": {
    "vscode": {
     "languageId": "r"
    }
   },
   "outputs": [
    {
     "name": "stderr",
     "output_type": "stream",
     "text": [
      "Warning message:\n",
      "\"package 'XML' was built under R version 4.1.3\"\n"
     ]
    }
   ],
   "source": [
    "library(XML)\n",
    "\n",
    "pDiff <- 17 # subtract this from the page number\n",
    "pagePad <- \"%03d\" # set the number of digits in your page numbers... so if your maximum page < 1000, set to %03d\n",
    "lineSuffix <- '  \\n'\n",
    "fileNames <- c(\n",
    "    'c:/Users/ahipp/Dropbox/PERSONAL/WRITING/AAA - OAKS - UNTOLD STORIES/READING.NOTES_REFS/byTopicAndAuthor/Oak Seed Dispersal-5-1.pdf.annot',\n",
    "    'c:/Users/ahipp/Dropbox/PERSONAL/WRITING/AAA - OAKS - UNTOLD STORIES/READING.NOTES_REFS/byTopicAndAuthor/Oak Seed Dispersal-5-2.pdf.annot'\n",
    "    )\n",
    "    \n",
    "pagePrefix <- 'Page ' # prefix for page numbers; set to '' if no page prefix desired\n",
    "pageDelim <- ' --- ' # delimiter between page numbers and text\n",
    "tocPrefix <- '# ' # prefix for TOC entries; defaults to # for md\n",
    "# fileOut <- 'c:/Users/ahipp/Dropbox/PERSONAL/WRITING/AAA - OAKS - UNTOLD STORIES/READING.NOTES_REFS/byTopicAndAuthor/Steele_OakSeedDispersal_readingNotes.md'\n",
    "\n",
    "# toc should be a tab-delimited file with two columns: 'chapter' and 'startPage'\n",
    "# comment out this line if there is no toc\n",
    "toc <- 'c:/Users/ahipp/Dropbox/PERSONAL/WRITING/AAA - OAKS - UNTOLD STORIES/READING.NOTES_REFS/byTopicAndAuthor/OakSeedDispersal.toc.tsv'"
   ]
  },
  {
   "cell_type": "markdown",
   "metadata": {},
   "source": [
    "Then, read in and format the XML from Adobe:"
   ]
  },
  {
   "cell_type": "code",
   "execution_count": 5,
   "metadata": {
    "vscode": {
     "languageId": "r"
    }
   },
   "outputs": [],
   "source": [
    "for(i in fileNames) {\n",
    "    dat <- xmlParse(i)\n",
    "    dat <- xmlToList(dat)\n",
    "    dat.text <- sapply(seq_along(dat), function(x) {\n",
    "        dat[[x]]$target$fragment$text\n",
    "        }\n",
    "        )\n",
    "    dat.page <- sapply(seq_along(dat), function(x) {\n",
    "        dat[[x]]$title\n",
    "        }\n",
    "        )\n",
    "    keep <- !(sapply(dat.text, is.null) | sapply(dat.page, is.null))\n",
    "    dat.text <- \n",
    "        dat.text[keep] |> unlist()\n",
    "    dat.page <- \n",
    "        dat.page[keep] |> \n",
    "        sapply(FUN = strsplit, split = ',', fixed = TRUE) |>\n",
    "        sapply(FUN = '[', 1) |>\n",
    "        gsub(pattern = 'Page ', replacement = '', fixed = T) |>\n",
    "        as.integer() |>\n",
    "        (function(x) {x-pDiff})() |>\n",
    "        sprintf(fmt = pagePad)\n",
    "\n",
    "    dat.out <- paste(pagePrefix, dat.page, pageDelim, dat.text, lineSuffix, sep = '')\n",
    "\n",
    "    if(exists('toc')) {\n",
    "        dat.toc <- read.delim(toc)\n",
    "        dat.toc.out <- \n",
    "            paste(pagePrefix, \n",
    "                  dat.toc$startPage |> sprintf(fmt = pagePad),\n",
    "                  pageDelim,\n",
    "                  dat.toc$chapter,\n",
    "                  'TOCPLACEHOLDER',\n",
    "                  sep = '')\n",
    "        dat.out <- c(dat.out, dat.toc.out) |> sort()\n",
    "        dat.out[grep('TOCPLACEHOLDER', dat.out)] <- paste(tocPrefix, dat.out[grep('TOCPLACEHOLDER', dat.out)])\n",
    "        dat.out <- gsub('TOCPLACEHOLDER', '', dat.out)\n",
    "    }\n",
    "\n",
    "    writeLines(dat.out, paste(i, '.md', sep = '')) # for now, just writes each one out to a separate markdown file\n",
    "    } # close i"
   ]
  },
  {
   "cell_type": "code",
   "execution_count": 4,
   "metadata": {},
   "outputs": [
    {
     "data": {
      "text/html": [
       "'C:/Users/ahipp/Documents/CODE/mor-systematics/AAA.LAB'"
      ],
      "text/latex": [
       "'C:/Users/ahipp/Documents/CODE/mor-systematics/AAA.LAB'"
      ],
      "text/markdown": [
       "'C:/Users/ahipp/Documents/CODE/mor-systematics/AAA.LAB'"
      ],
      "text/plain": [
       "[1] \"C:/Users/ahipp/Documents/CODE/mor-systematics/AAA.LAB\""
      ]
     },
     "metadata": {},
     "output_type": "display_data"
    }
   ],
   "source": []
  }
 ],
 "metadata": {
  "kernelspec": {
   "display_name": "R",
   "language": "R",
   "name": "ir"
  },
  "language_info": {
   "codemirror_mode": "r",
   "file_extension": ".r",
   "mimetype": "text/x-r-source",
   "name": "R",
   "pygments_lexer": "r",
   "version": "4.1.2"
  }
 },
 "nbformat": 4,
 "nbformat_minor": 2
}
